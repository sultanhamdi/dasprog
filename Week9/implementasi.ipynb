{
 "cells": [
  {
   "cell_type": "markdown",
   "metadata": {},
   "source": [
    "MEMBUAT SEBUAH FUNGSI:\n",
    "\n",
    "Dalam Python, sebuah fungsi didefinisikan menggunakan kata kunci `def`:"
   ]
  },
  {
   "cell_type": "code",
   "execution_count": 1,
   "metadata": {},
   "outputs": [],
   "source": [
    "def tugas():\n",
    "  print(\"Tugas implementasi fungsi dan rekursi\")"
   ]
  },
  {
   "cell_type": "markdown",
   "metadata": {},
   "source": [
    "MEMANGGIL SEBUAH FUNGSI:\n",
    "\n",
    "Untuk memanggil sebuah fungsi, gunakan nama fungsi diikuti dengan tanda kurung:"
   ]
  },
  {
   "cell_type": "code",
   "execution_count": 2,
   "metadata": {},
   "outputs": [
    {
     "name": "stdout",
     "output_type": "stream",
     "text": [
      "Tugas implementasi fungsi dan rekursi\n"
     ]
    }
   ],
   "source": [
    "def tugas():\n",
    "  print(\"Tugas implementasi fungsi dan rekursi\")\n",
    "\n",
    "tugas()"
   ]
  },
  {
   "cell_type": "markdown",
   "metadata": {},
   "source": [
    "ARGUMEN:\n",
    "\n",
    "Informasi dapat diteruskan ke dalam fungsi sebagai argumen.\n",
    "\n",
    "Argumen ditentukan setelah nama fungsi, di dalam tanda kurung. Anda dapat menambahkan sebanyak mungkin argumen yang diinginkan, cukup pisahkan dengan koma.\n",
    "\n",
    "Contoh berikut memiliki fungsi dengan satu argumen (nama). Saat fungsi dipanggil, kita meneruskan nama depan yang kemudian digunakan di dalam fungsi untuk mencetak nama lengkap:"
   ]
  },
  {
   "cell_type": "code",
   "execution_count": 3,
   "metadata": {},
   "outputs": [
    {
     "name": "stdout",
     "output_type": "stream",
     "text": [
      "Sultan Daulay\n",
      "Amru Daulay\n",
      "Darwin Daulay\n"
     ]
    }
   ],
   "source": [
    "def fungsi_nama(nama):\n",
    "  print(nama + \" Daulay\")\n",
    "\n",
    "fungsi_nama(\"Sultan\")\n",
    "fungsi_nama(\"Amru\")\n",
    "fungsi_nama(\"Darwin\")"
   ]
  },
  {
   "cell_type": "markdown",
   "metadata": {},
   "source": [
    "PARAMETER ATAU ARGUMEN?\n",
    "\n",
    "Istilah parameter dan argumen dapat digunakan untuk hal yang sama: informasi yang diteruskan ke dalam sebuah fungsi."
   ]
  },
  {
   "cell_type": "markdown",
   "metadata": {},
   "source": [
    "Dari perspektif sebuah fungsi:\n",
    "\n",
    "Parameter adalah variabel yang terdaftar di dalam tanda kurung pada definisi fungsi.\n",
    "\n",
    "Argumen adalah nilai yang dikirim ke fungsi saat fungsi tersebut dipanggil."
   ]
  },
  {
   "cell_type": "markdown",
   "metadata": {},
   "source": [
    "JUMLAH ARGUMEN:\n",
    "\n",
    "Secara default, sebuah fungsi harus dipanggil dengan jumlah argumen yang benar. Artinya, jika fungsi Anda mengharapkan 2 argumen, Anda harus memanggil fungsi tersebut dengan 2 argumen, tidak lebih, dan tidak kurang."
   ]
  },
  {
   "cell_type": "markdown",
   "metadata": {},
   "source": [
    "Contoh\n",
    "\n",
    "Fungsi ini mengharapkan 2 argumen, dan menerima 2 argumen:"
   ]
  },
  {
   "cell_type": "code",
   "execution_count": 4,
   "metadata": {},
   "outputs": [
    {
     "name": "stdout",
     "output_type": "stream",
     "text": [
      "Radja Nainggolan\n"
     ]
    }
   ],
   "source": [
    "def nama(nama_depan, marga):\n",
    "  print(nama_depan + \" \" + marga)\n",
    "\n",
    "nama(\"Radja\", \"Nainggolan\")"
   ]
  },
  {
   "cell_type": "markdown",
   "metadata": {},
   "source": [
    "Jika Anda mencoba memanggil fungsi dengan 1 atau 3 argumen, Anda akan mendapatkan error.\n",
    "\n",
    "Contoh\n",
    "Fungsi ini mengharapkan 2 argumen, tetapi hanya menerima 1:"
   ]
  },
  {
   "cell_type": "code",
   "execution_count": 5,
   "metadata": {},
   "outputs": [
    {
     "ename": "TypeError",
     "evalue": "nama() missing 1 required positional argument: 'marga'",
     "output_type": "error",
     "traceback": [
      "\u001b[1;31m---------------------------------------------------------------------------\u001b[0m",
      "\u001b[1;31mTypeError\u001b[0m                                 Traceback (most recent call last)",
      "Cell \u001b[1;32mIn[5], line 4\u001b[0m\n\u001b[0;32m      1\u001b[0m \u001b[38;5;28;01mdef\u001b[39;00m \u001b[38;5;21mnama\u001b[39m(nama_depan, marga):\n\u001b[0;32m      2\u001b[0m   \u001b[38;5;28mprint\u001b[39m(nama_depan \u001b[38;5;241m+\u001b[39m \u001b[38;5;124m\"\u001b[39m\u001b[38;5;124m \u001b[39m\u001b[38;5;124m\"\u001b[39m \u001b[38;5;241m+\u001b[39m marga)\n\u001b[1;32m----> 4\u001b[0m \u001b[43mnama\u001b[49m\u001b[43m(\u001b[49m\u001b[38;5;124;43m\"\u001b[39;49m\u001b[38;5;124;43mRadja\u001b[39;49m\u001b[38;5;124;43m\"\u001b[39;49m\u001b[43m)\u001b[49m\n",
      "\u001b[1;31mTypeError\u001b[0m: nama() missing 1 required positional argument: 'marga'"
     ]
    }
   ],
   "source": [
    "def nama(nama_depan, marga):\n",
    "  print(nama_depan + \" \" + marga)\n",
    "\n",
    "nama(\"Radja\")"
   ]
  },
  {
   "cell_type": "markdown",
   "metadata": {},
   "source": [
    "ARGUMEN ARBITRARY, *ARGS\n",
    "\n",
    "Jika Anda tidak tahu berapa banyak argumen yang akan diteruskan ke fungsi, tambahkan tanda * sebelum nama parameter di dalam definisi fungsi.\n",
    "\n",
    "Dengan cara ini, fungsi akan menerima argumen dalam bentuk tuple, dan dapat mengakses item-itemnya sesuai kebutuhan:"
   ]
  },
  {
   "cell_type": "markdown",
   "metadata": {},
   "source": [
    "Contoh\n",
    "Jika jumlah argumen tidak diketahui, tambahkan * sebelum nama parameter:"
   ]
  },
  {
   "cell_type": "code",
   "execution_count": 6,
   "metadata": {},
   "outputs": [
    {
     "name": "stdout",
     "output_type": "stream",
     "text": [
      "presiden saat ini adalah Prabowo\n"
     ]
    }
   ],
   "source": [
    "def nama_presiden(*president):\n",
    "  print(\"presiden saat ini adalah \" + president[7])\n",
    "\n",
    "nama_presiden(\"Soekarno\", \"Soeharto\", \"Habiebie\", \"Gus Dur\", \"Megawati\", \"SBY\", \"Jokowi\", \"Prabowo\")"
   ]
  },
  {
   "cell_type": "markdown",
   "metadata": {},
   "source": [
    "ARGUMEN KATA KUNCI\n",
    "\n",
    "Anda juga dapat mengirim argumen menggunakan sintaks key = value.\n",
    "\n",
    "Dengan cara ini, urutan argumen tidak menjadi masalah."
   ]
  },
  {
   "cell_type": "code",
   "execution_count": 9,
   "metadata": {},
   "outputs": [
    {
     "name": "stdout",
     "output_type": "stream",
     "text": [
      "paling tua valve dan paling muda EA\n"
     ]
    }
   ],
   "source": [
    "def siblings(anak3, anak2, anak1):\n",
    "  print(\"paling tua \" + anak1, \"dan \" + \"paling muda \" + anak3)\n",
    "\n",
    "siblings(anak1 = \"valve\", anak2 = \"bethesda\", anak3 = \"EA\")"
   ]
  },
  {
   "cell_type": "markdown",
   "metadata": {},
   "source": [
    "ARGUMEN KATA KUNCI ARBITRARY, **KWARGS\n",
    "\n",
    "Jika Anda tidak tahu berapa banyak argumen kata kunci yang akan diteruskan ke fungsi, tambahkan dua tanda bintang ** sebelum nama parameter di dalam definisi fungsi.\n",
    "\n",
    "Dengan cara ini, fungsi akan menerima argumen dalam bentuk dictionary, dan dapat mengakses item-itemnya sesuai kebutuhan:"
   ]
  },
  {
   "cell_type": "markdown",
   "metadata": {},
   "source": [
    "Contoh\n",
    "\n",
    "Jika jumlah argumen kata kunci tidak diketahui, tambahkan dua tanda bintang ** sebelum nama parameter:"
   ]
  },
  {
   "cell_type": "code",
   "execution_count": 10,
   "metadata": {},
   "outputs": [
    {
     "name": "stdout",
     "output_type": "stream",
     "text": [
      "Nama depan saya  Sultan\n"
     ]
    }
   ],
   "source": [
    "def saya(**kid):\n",
    "  print(\"Nama depan saya  \" + kid[\"nama_depan\"])\n",
    "\n",
    "saya(nama_depan = \"Sultan\", nama_belakang = \"Hamdi\")"
   ]
  },
  {
   "cell_type": "markdown",
   "metadata": {},
   "source": [
    "NILAI PARAMETER DEFAULT\n",
    "\n",
    "Contoh berikut menunjukkan cara menggunakan nilai parameter default.\n",
    "\n",
    "Jika kita memanggil fungsi tanpa argumen, fungsi tersebut akan menggunakan nilai default:"
   ]
  },
  {
   "cell_type": "code",
   "execution_count": 11,
   "metadata": {},
   "outputs": [
    {
     "name": "stdout",
     "output_type": "stream",
     "text": [
      "I am from Jatim\n",
      "I am from Jakarta\n",
      "I am from Sumut\n",
      "I am from NTT\n"
     ]
    }
   ],
   "source": [
    "def geografi(provinsi = \"Sumut\"):\n",
    "  print(\"I am from \" + provinsi)\n",
    "\n",
    "geografi(\"Jatim\")\n",
    "geografi(\"Jakarta\")\n",
    "geografi()\n",
    "geografi(\"NTT\")"
   ]
  },
  {
   "cell_type": "markdown",
   "metadata": {},
   "source": [
    "MENERUSKAN LIST SEBAGAI ARGUMEN\n",
    "\n",
    "Anda dapat mengirimkan argumen dengan tipe data apa pun ke dalam sebuah fungsi (string, angka, list, dictionary, dll.), dan argumen tersebut akan tetap diperlakukan sebagai tipe data yang sama di dalam fungsi.\n",
    "\n",
    "Contohnya, jika Anda mengirimkan sebuah list sebagai argumen, argumen tersebut tetap akan menjadi list ketika mencapai fungsi:"
   ]
  },
  {
   "cell_type": "code",
   "execution_count": 4,
   "metadata": {},
   "outputs": [
    {
     "name": "stdout",
     "output_type": "stream",
     "text": [
      "Porsche\n",
      "BMW\n",
      "Ferrari\n"
     ]
    }
   ],
   "source": [
    "def my_car(car):\n",
    "  for i in car:\n",
    "    print(i)\n",
    "\n",
    "brand = [\"Porsche\", \"BMW\", \"Ferrari\"]\n",
    "\n",
    "my_car(brand)"
   ]
  },
  {
   "cell_type": "markdown",
   "metadata": {},
   "source": [
    "RETURN VALUES\n",
    "\n",
    "Untuk membuat fungsi mengembalikan sebuah nilai, gunakan pernyataan return:"
   ]
  },
  {
   "cell_type": "code",
   "execution_count": 5,
   "metadata": {},
   "outputs": [
    {
     "name": "stdout",
     "output_type": "stream",
     "text": [
      "50\n",
      "40\n",
      "10030\n"
     ]
    }
   ],
   "source": [
    "def matematika(x):\n",
    "  return 5 * x\n",
    "\n",
    "print(matematika(10))\n",
    "print(matematika(8))\n",
    "print(matematika(2006))"
   ]
  },
  {
   "cell_type": "markdown",
   "metadata": {},
   "source": [
    "THE PASS STATEMENT\n",
    "\n",
    "Definisi fungsi tidak boleh kosong, tetapi jika Anda, karena alasan tertentu, memiliki definisi fungsi tanpa konten, gunakan pernyataan pass untuk menghindari error."
   ]
  },
  {
   "cell_type": "code",
   "execution_count": 6,
   "metadata": {},
   "outputs": [],
   "source": [
    "def fungsi():\n",
    "  pass"
   ]
  },
  {
   "cell_type": "markdown",
   "metadata": {},
   "source": [
    "POSITIONAL ONLY-ARGUMENTS\n",
    "\n",
    "Anda dapat menentukan bahwa sebuah fungsi hanya dapat memiliki argumen positional atau hanya argumen keyword.\n",
    "\n",
    "Untuk menentukan bahwa fungsi hanya dapat memiliki argumen positional, tambahkan , / setelah argumen:"
   ]
  },
  {
   "cell_type": "code",
   "execution_count": 8,
   "metadata": {},
   "outputs": [
    {
     "name": "stdout",
     "output_type": "stream",
     "text": [
      "1945\n"
     ]
    }
   ],
   "source": [
    "def bingung_namain_apa(x, /):\n",
    "  print(x)\n",
    "\n",
    "bingung_namain_apa(1945)"
   ]
  },
  {
   "cell_type": "markdown",
   "metadata": {},
   "source": [
    "Tanpa `, /`, Anda sebenarnya diizinkan menggunakan argumen *keyword* meskipun fungsi tersebut mengharapkan argumen *positional*:\n",
    "\n",
    "Contoh"
   ]
  },
  {
   "cell_type": "code",
   "execution_count": 9,
   "metadata": {},
   "outputs": [
    {
     "name": "stdout",
     "output_type": "stream",
     "text": [
      "1945\n"
     ]
    }
   ],
   "source": [
    "def bingung_namain_apa(x):\n",
    "  print(x)\n",
    "\n",
    "bingung_namain_apa(x = 1945)"
   ]
  },
  {
   "cell_type": "markdown",
   "metadata": {},
   "source": [
    "Namun, ketika menambahkan `, /`, Anda akan mendapatkan error jika mencoba mengirim argumen *keyword*:"
   ]
  },
  {
   "cell_type": "code",
   "execution_count": 10,
   "metadata": {},
   "outputs": [
    {
     "ename": "TypeError",
     "evalue": "bingung_namain_apa() got some positional-only arguments passed as keyword arguments: 'x'",
     "output_type": "error",
     "traceback": [
      "\u001b[1;31m---------------------------------------------------------------------------\u001b[0m",
      "\u001b[1;31mTypeError\u001b[0m                                 Traceback (most recent call last)",
      "Cell \u001b[1;32mIn[10], line 4\u001b[0m\n\u001b[0;32m      1\u001b[0m \u001b[38;5;28;01mdef\u001b[39;00m \u001b[38;5;21mbingung_namain_apa\u001b[39m(x, \u001b[38;5;241m/\u001b[39m):\n\u001b[0;32m      2\u001b[0m   \u001b[38;5;28mprint\u001b[39m(x)\n\u001b[1;32m----> 4\u001b[0m \u001b[43mbingung_namain_apa\u001b[49m\u001b[43m(\u001b[49m\u001b[43mx\u001b[49m\u001b[43m \u001b[49m\u001b[38;5;241;43m=\u001b[39;49m\u001b[43m \u001b[49m\u001b[38;5;241;43m1945\u001b[39;49m\u001b[43m)\u001b[49m\n",
      "\u001b[1;31mTypeError\u001b[0m: bingung_namain_apa() got some positional-only arguments passed as keyword arguments: 'x'"
     ]
    }
   ],
   "source": [
    "def bingung_namain_apa(x, /):\n",
    "  print(x)\n",
    "\n",
    "bingung_namain_apa(x = 1945)"
   ]
  },
  {
   "cell_type": "markdown",
   "metadata": {},
   "source": [
    "KEYWORD-ONLY ARGUMENTS\n",
    "\n",
    "Untuk menentukan bahwa sebuah fungsi hanya dapat memiliki argumen *keyword*, tambahkan `*` sebelum argumen:"
   ]
  },
  {
   "cell_type": "code",
   "execution_count": 11,
   "metadata": {},
   "outputs": [
    {
     "name": "stdout",
     "output_type": "stream",
     "text": [
      "24434\n"
     ]
    }
   ],
   "source": [
    "def kunci_surga(*, x):\n",
    "  print(x)\n",
    "\n",
    "kunci_surga(x = 24434)"
   ]
  },
  {
   "cell_type": "markdown",
   "metadata": {},
   "source": [
    "Tanpa `*`, Anda diizinkan menggunakan argumen *positional* meskipun fungsi tersebut mengharapkan argumen *keyword*:"
   ]
  },
  {
   "cell_type": "code",
   "execution_count": 12,
   "metadata": {},
   "outputs": [
    {
     "name": "stdout",
     "output_type": "stream",
     "text": [
      "6\n"
     ]
    }
   ],
   "source": [
    "def liverpool(ucl):\n",
    "  print(ucl)\n",
    "\n",
    "liverpool(6)"
   ]
  },
  {
   "cell_type": "markdown",
   "metadata": {},
   "source": [
    "Namun, ketika menambahkan `*`, Anda akan mendapatkan error jika mencoba mengirim argumen *positional*:"
   ]
  },
  {
   "cell_type": "code",
   "execution_count": 13,
   "metadata": {},
   "outputs": [
    {
     "ename": "TypeError",
     "evalue": "ipk_saya() takes 0 positional arguments but 1 was given",
     "output_type": "error",
     "traceback": [
      "\u001b[1;31m---------------------------------------------------------------------------\u001b[0m",
      "\u001b[1;31mTypeError\u001b[0m                                 Traceback (most recent call last)",
      "Cell \u001b[1;32mIn[13], line 4\u001b[0m\n\u001b[0;32m      1\u001b[0m \u001b[38;5;28;01mdef\u001b[39;00m \u001b[38;5;21mipk_saya\u001b[39m(\u001b[38;5;241m*\u001b[39m, x):\n\u001b[0;32m      2\u001b[0m   \u001b[38;5;28mprint\u001b[39m(x)\n\u001b[1;32m----> 4\u001b[0m \u001b[43mipk_saya\u001b[49m\u001b[43m(\u001b[49m\u001b[38;5;241;43m4\u001b[39;49m\u001b[43m)\u001b[49m\n",
      "\u001b[1;31mTypeError\u001b[0m: ipk_saya() takes 0 positional arguments but 1 was given"
     ]
    }
   ],
   "source": [
    "def ipk_saya(*, x):\n",
    "  print(x)\n",
    "\n",
    "ipk_saya(4)"
   ]
  },
  {
   "cell_type": "markdown",
   "metadata": {},
   "source": [
    "COMBINE POSITIONAL-ONLY AND KEYWORD-ONLY\n",
    "\n",
    "Anda dapat menggabungkan kedua jenis argumen dalam fungsi yang sama.\n",
    "\n",
    "Argumen apa pun sebelum `/` adalah *positional-only*, dan argumen apa pun setelah `*` adalah *keyword-only*."
   ]
  },
  {
   "cell_type": "code",
   "execution_count": 14,
   "metadata": {},
   "outputs": [
    {
     "name": "stdout",
     "output_type": "stream",
     "text": [
      "529\n"
     ]
    }
   ],
   "source": [
    "def another_math(a, b, /, *, c, d):\n",
    "  print((a * b - c )**d)\n",
    "\n",
    "another_math(5, 6, c = 7, d = 2)"
   ]
  },
  {
   "cell_type": "markdown",
   "metadata": {},
   "source": [
    "RECURSION\n",
    "\n",
    "Python juga mendukung rekursi fungsi, yang berarti fungsi yang didefinisikan dapat memanggil dirinya sendiri.\n",
    "\n",
    "Rekursi adalah konsep umum dalam matematika dan pemrograman. Ini berarti bahwa sebuah fungsi memanggil dirinya sendiri. Ini memiliki keuntungan karena memungkinkan Anda untuk melakukan iterasi melalui data untuk mencapai suatu hasil.\n",
    "\n",
    "Pengembang harus sangat berhati-hati dengan rekursi karena mudah untuk membuat fungsi yang tidak pernah berakhir, atau satu yang menggunakan jumlah memori atau daya pemrosesan yang berlebihan. Namun, jika ditulis dengan benar, rekursi dapat menjadi pendekatan pemrograman yang sangat efisien dan elegan secara matematis.\n",
    "\n",
    "Dalam contoh ini, Fungsi faktorial bekerja secara rekursif, yang berarti fungsi memanggil dirinya sendiri untuk menyelesaikan masalah yang lebih kecil. cara kerja fungsi faktorial secara langkah demi langkah untuk menghitung faktorial(5)\n",
    "\n",
    "Bagi pengembang baru, mungkin memerlukan waktu untuk memahami bagaimana ini bekerja, dan cara terbaik untuk mengetahuinya adalah dengan menguji dan memodifikasinya."
   ]
  },
  {
   "cell_type": "code",
   "execution_count": null,
   "metadata": {},
   "outputs": [],
   "source": [
    "def faktorial(n):\n",
    "    if n == 0 or n == 1:\n",
    "        return 1\n",
    "    else:\n",
    "        return n * faktorial(n - 1)\n",
    "\n",
    "# Contoh penggunaan\n",
    "hasil = faktorial(5)\n",
    "print(hasil)"
   ]
  }
 ],
 "metadata": {
  "kernelspec": {
   "display_name": "Python 3",
   "language": "python",
   "name": "python3"
  },
  "language_info": {
   "codemirror_mode": {
    "name": "ipython",
    "version": 3
   },
   "file_extension": ".py",
   "mimetype": "text/x-python",
   "name": "python",
   "nbconvert_exporter": "python",
   "pygments_lexer": "ipython3",
   "version": "3.12.3"
  }
 },
 "nbformat": 4,
 "nbformat_minor": 2
}
